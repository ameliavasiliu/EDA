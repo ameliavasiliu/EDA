{
  "cells": [
    {
      "cell_type": "markdown",
      "metadata": {
        "id": "view-in-github",
        "colab_type": "text"
      },
      "source": [
        "<a href=\"https://colab.research.google.com/github/ameliavasiliu/EDA/blob/main/assignment/assignment.ipynb\" target=\"_parent\"><img src=\"https://colab.research.google.com/assets/colab-badge.svg\" alt=\"Open In Colab\"/></a>"
      ]
    },
    {
      "cell_type": "markdown",
      "source": [
        "# Q1"
      ],
      "metadata": {
        "id": "ZiJreIOgPymf"
      }
    },
    {
      "cell_type": "markdown",
      "source": [
        "# Q2"
      ],
      "metadata": {
        "id": "KxFzUQG8DVge"
      }
    },
    {
      "cell_type": "code",
      "execution_count": 19,
      "metadata": {
        "id": "eQRe_LclDS-8"
      },
      "outputs": [],
      "source": [
        "import pandas as pd\n",
        "import matplotlib.pyplot as plt\n",
        "import seaborn as sns\n",
        "import numpy as np"
      ]
    },
    {
      "cell_type": "code",
      "source": [
        "#1\n",
        "df = pd.read_csv(\"ForeignGifts_edu.csv\")\n",
        "df.head()"
      ],
      "metadata": {
        "colab": {
          "base_uri": "https://localhost:8080/",
          "height": 258
        },
        "id": "5msPk6tIDxdP",
        "outputId": "64bdf5e6-7a65-45a8-d14d-10d40ef1a2d1"
      },
      "execution_count": 8,
      "outputs": [
        {
          "output_type": "execute_result",
          "data": {
            "text/plain": [
              "   ID   OPEID               Institution Name          City State  \\\n",
              "0   1  102000  Jacksonville State University  Jacksonville    AL   \n",
              "1   2  104700                Troy University          Troy    AL   \n",
              "2   3  105100          University of Alabama    Tuscaloosa    AL   \n",
              "3   4  105100          University of Alabama    Tuscaloosa    AL   \n",
              "4   5  105100          University of Alabama    Tuscaloosa    AL   \n",
              "\n",
              "   Foreign Gift Received Date  Foreign Gift Amount      Gift Type  \\\n",
              "0                       43738               250000  Monetary Gift   \n",
              "1                       43592               463657       Contract   \n",
              "2                       43466              3649107       Contract   \n",
              "3                       43472                 1000       Contract   \n",
              "4                       43479                49476       Contract   \n",
              "\n",
              "  Country of Giftor                          Giftor Name  \n",
              "0             CHINA                                  NaN  \n",
              "1             CHINA     Confucius Institute Headquarters  \n",
              "2           ENGLAND  Springer Nature Customer Service Ce  \n",
              "3      SAUDI ARABIA       Saudi Arabia Education Mission  \n",
              "4      SAUDI ARABIA       Saudi Arabia Education Mission  "
            ],
            "text/html": [
              "\n",
              "  <div id=\"df-e5d1d2c4-52e3-4500-a127-35750de5ec08\" class=\"colab-df-container\">\n",
              "    <div>\n",
              "<style scoped>\n",
              "    .dataframe tbody tr th:only-of-type {\n",
              "        vertical-align: middle;\n",
              "    }\n",
              "\n",
              "    .dataframe tbody tr th {\n",
              "        vertical-align: top;\n",
              "    }\n",
              "\n",
              "    .dataframe thead th {\n",
              "        text-align: right;\n",
              "    }\n",
              "</style>\n",
              "<table border=\"1\" class=\"dataframe\">\n",
              "  <thead>\n",
              "    <tr style=\"text-align: right;\">\n",
              "      <th></th>\n",
              "      <th>ID</th>\n",
              "      <th>OPEID</th>\n",
              "      <th>Institution Name</th>\n",
              "      <th>City</th>\n",
              "      <th>State</th>\n",
              "      <th>Foreign Gift Received Date</th>\n",
              "      <th>Foreign Gift Amount</th>\n",
              "      <th>Gift Type</th>\n",
              "      <th>Country of Giftor</th>\n",
              "      <th>Giftor Name</th>\n",
              "    </tr>\n",
              "  </thead>\n",
              "  <tbody>\n",
              "    <tr>\n",
              "      <th>0</th>\n",
              "      <td>1</td>\n",
              "      <td>102000</td>\n",
              "      <td>Jacksonville State University</td>\n",
              "      <td>Jacksonville</td>\n",
              "      <td>AL</td>\n",
              "      <td>43738</td>\n",
              "      <td>250000</td>\n",
              "      <td>Monetary Gift</td>\n",
              "      <td>CHINA</td>\n",
              "      <td>NaN</td>\n",
              "    </tr>\n",
              "    <tr>\n",
              "      <th>1</th>\n",
              "      <td>2</td>\n",
              "      <td>104700</td>\n",
              "      <td>Troy University</td>\n",
              "      <td>Troy</td>\n",
              "      <td>AL</td>\n",
              "      <td>43592</td>\n",
              "      <td>463657</td>\n",
              "      <td>Contract</td>\n",
              "      <td>CHINA</td>\n",
              "      <td>Confucius Institute Headquarters</td>\n",
              "    </tr>\n",
              "    <tr>\n",
              "      <th>2</th>\n",
              "      <td>3</td>\n",
              "      <td>105100</td>\n",
              "      <td>University of Alabama</td>\n",
              "      <td>Tuscaloosa</td>\n",
              "      <td>AL</td>\n",
              "      <td>43466</td>\n",
              "      <td>3649107</td>\n",
              "      <td>Contract</td>\n",
              "      <td>ENGLAND</td>\n",
              "      <td>Springer Nature Customer Service Ce</td>\n",
              "    </tr>\n",
              "    <tr>\n",
              "      <th>3</th>\n",
              "      <td>4</td>\n",
              "      <td>105100</td>\n",
              "      <td>University of Alabama</td>\n",
              "      <td>Tuscaloosa</td>\n",
              "      <td>AL</td>\n",
              "      <td>43472</td>\n",
              "      <td>1000</td>\n",
              "      <td>Contract</td>\n",
              "      <td>SAUDI ARABIA</td>\n",
              "      <td>Saudi Arabia Education Mission</td>\n",
              "    </tr>\n",
              "    <tr>\n",
              "      <th>4</th>\n",
              "      <td>5</td>\n",
              "      <td>105100</td>\n",
              "      <td>University of Alabama</td>\n",
              "      <td>Tuscaloosa</td>\n",
              "      <td>AL</td>\n",
              "      <td>43479</td>\n",
              "      <td>49476</td>\n",
              "      <td>Contract</td>\n",
              "      <td>SAUDI ARABIA</td>\n",
              "      <td>Saudi Arabia Education Mission</td>\n",
              "    </tr>\n",
              "  </tbody>\n",
              "</table>\n",
              "</div>\n",
              "    <div class=\"colab-df-buttons\">\n",
              "\n",
              "  <div class=\"colab-df-container\">\n",
              "    <button class=\"colab-df-convert\" onclick=\"convertToInteractive('df-e5d1d2c4-52e3-4500-a127-35750de5ec08')\"\n",
              "            title=\"Convert this dataframe to an interactive table.\"\n",
              "            style=\"display:none;\">\n",
              "\n",
              "  <svg xmlns=\"http://www.w3.org/2000/svg\" height=\"24px\" viewBox=\"0 -960 960 960\">\n",
              "    <path d=\"M120-120v-720h720v720H120Zm60-500h600v-160H180v160Zm220 220h160v-160H400v160Zm0 220h160v-160H400v160ZM180-400h160v-160H180v160Zm440 0h160v-160H620v160ZM180-180h160v-160H180v160Zm440 0h160v-160H620v160Z\"/>\n",
              "  </svg>\n",
              "    </button>\n",
              "\n",
              "  <style>\n",
              "    .colab-df-container {\n",
              "      display:flex;\n",
              "      gap: 12px;\n",
              "    }\n",
              "\n",
              "    .colab-df-convert {\n",
              "      background-color: #E8F0FE;\n",
              "      border: none;\n",
              "      border-radius: 50%;\n",
              "      cursor: pointer;\n",
              "      display: none;\n",
              "      fill: #1967D2;\n",
              "      height: 32px;\n",
              "      padding: 0 0 0 0;\n",
              "      width: 32px;\n",
              "    }\n",
              "\n",
              "    .colab-df-convert:hover {\n",
              "      background-color: #E2EBFA;\n",
              "      box-shadow: 0px 1px 2px rgba(60, 64, 67, 0.3), 0px 1px 3px 1px rgba(60, 64, 67, 0.15);\n",
              "      fill: #174EA6;\n",
              "    }\n",
              "\n",
              "    .colab-df-buttons div {\n",
              "      margin-bottom: 4px;\n",
              "    }\n",
              "\n",
              "    [theme=dark] .colab-df-convert {\n",
              "      background-color: #3B4455;\n",
              "      fill: #D2E3FC;\n",
              "    }\n",
              "\n",
              "    [theme=dark] .colab-df-convert:hover {\n",
              "      background-color: #434B5C;\n",
              "      box-shadow: 0px 1px 3px 1px rgba(0, 0, 0, 0.15);\n",
              "      filter: drop-shadow(0px 1px 2px rgba(0, 0, 0, 0.3));\n",
              "      fill: #FFFFFF;\n",
              "    }\n",
              "  </style>\n",
              "\n",
              "    <script>\n",
              "      const buttonEl =\n",
              "        document.querySelector('#df-e5d1d2c4-52e3-4500-a127-35750de5ec08 button.colab-df-convert');\n",
              "      buttonEl.style.display =\n",
              "        google.colab.kernel.accessAllowed ? 'block' : 'none';\n",
              "\n",
              "      async function convertToInteractive(key) {\n",
              "        const element = document.querySelector('#df-e5d1d2c4-52e3-4500-a127-35750de5ec08');\n",
              "        const dataTable =\n",
              "          await google.colab.kernel.invokeFunction('convertToInteractive',\n",
              "                                                    [key], {});\n",
              "        if (!dataTable) return;\n",
              "\n",
              "        const docLinkHtml = 'Like what you see? Visit the ' +\n",
              "          '<a target=\"_blank\" href=https://colab.research.google.com/notebooks/data_table.ipynb>data table notebook</a>'\n",
              "          + ' to learn more about interactive tables.';\n",
              "        element.innerHTML = '';\n",
              "        dataTable['output_type'] = 'display_data';\n",
              "        await google.colab.output.renderOutput(dataTable, element);\n",
              "        const docLink = document.createElement('div');\n",
              "        docLink.innerHTML = docLinkHtml;\n",
              "        element.appendChild(docLink);\n",
              "      }\n",
              "    </script>\n",
              "  </div>\n",
              "\n",
              "\n",
              "<div id=\"df-5ca4de4d-6672-4fc5-9a43-4cc5975b5157\">\n",
              "  <button class=\"colab-df-quickchart\" onclick=\"quickchart('df-5ca4de4d-6672-4fc5-9a43-4cc5975b5157')\"\n",
              "            title=\"Suggest charts\"\n",
              "            style=\"display:none;\">\n",
              "\n",
              "<svg xmlns=\"http://www.w3.org/2000/svg\" height=\"24px\"viewBox=\"0 0 24 24\"\n",
              "     width=\"24px\">\n",
              "    <g>\n",
              "        <path d=\"M19 3H5c-1.1 0-2 .9-2 2v14c0 1.1.9 2 2 2h14c1.1 0 2-.9 2-2V5c0-1.1-.9-2-2-2zM9 17H7v-7h2v7zm4 0h-2V7h2v10zm4 0h-2v-4h2v4z\"/>\n",
              "    </g>\n",
              "</svg>\n",
              "  </button>\n",
              "\n",
              "<style>\n",
              "  .colab-df-quickchart {\n",
              "      --bg-color: #E8F0FE;\n",
              "      --fill-color: #1967D2;\n",
              "      --hover-bg-color: #E2EBFA;\n",
              "      --hover-fill-color: #174EA6;\n",
              "      --disabled-fill-color: #AAA;\n",
              "      --disabled-bg-color: #DDD;\n",
              "  }\n",
              "\n",
              "  [theme=dark] .colab-df-quickchart {\n",
              "      --bg-color: #3B4455;\n",
              "      --fill-color: #D2E3FC;\n",
              "      --hover-bg-color: #434B5C;\n",
              "      --hover-fill-color: #FFFFFF;\n",
              "      --disabled-bg-color: #3B4455;\n",
              "      --disabled-fill-color: #666;\n",
              "  }\n",
              "\n",
              "  .colab-df-quickchart {\n",
              "    background-color: var(--bg-color);\n",
              "    border: none;\n",
              "    border-radius: 50%;\n",
              "    cursor: pointer;\n",
              "    display: none;\n",
              "    fill: var(--fill-color);\n",
              "    height: 32px;\n",
              "    padding: 0;\n",
              "    width: 32px;\n",
              "  }\n",
              "\n",
              "  .colab-df-quickchart:hover {\n",
              "    background-color: var(--hover-bg-color);\n",
              "    box-shadow: 0 1px 2px rgba(60, 64, 67, 0.3), 0 1px 3px 1px rgba(60, 64, 67, 0.15);\n",
              "    fill: var(--button-hover-fill-color);\n",
              "  }\n",
              "\n",
              "  .colab-df-quickchart-complete:disabled,\n",
              "  .colab-df-quickchart-complete:disabled:hover {\n",
              "    background-color: var(--disabled-bg-color);\n",
              "    fill: var(--disabled-fill-color);\n",
              "    box-shadow: none;\n",
              "  }\n",
              "\n",
              "  .colab-df-spinner {\n",
              "    border: 2px solid var(--fill-color);\n",
              "    border-color: transparent;\n",
              "    border-bottom-color: var(--fill-color);\n",
              "    animation:\n",
              "      spin 1s steps(1) infinite;\n",
              "  }\n",
              "\n",
              "  @keyframes spin {\n",
              "    0% {\n",
              "      border-color: transparent;\n",
              "      border-bottom-color: var(--fill-color);\n",
              "      border-left-color: var(--fill-color);\n",
              "    }\n",
              "    20% {\n",
              "      border-color: transparent;\n",
              "      border-left-color: var(--fill-color);\n",
              "      border-top-color: var(--fill-color);\n",
              "    }\n",
              "    30% {\n",
              "      border-color: transparent;\n",
              "      border-left-color: var(--fill-color);\n",
              "      border-top-color: var(--fill-color);\n",
              "      border-right-color: var(--fill-color);\n",
              "    }\n",
              "    40% {\n",
              "      border-color: transparent;\n",
              "      border-right-color: var(--fill-color);\n",
              "      border-top-color: var(--fill-color);\n",
              "    }\n",
              "    60% {\n",
              "      border-color: transparent;\n",
              "      border-right-color: var(--fill-color);\n",
              "    }\n",
              "    80% {\n",
              "      border-color: transparent;\n",
              "      border-right-color: var(--fill-color);\n",
              "      border-bottom-color: var(--fill-color);\n",
              "    }\n",
              "    90% {\n",
              "      border-color: transparent;\n",
              "      border-bottom-color: var(--fill-color);\n",
              "    }\n",
              "  }\n",
              "</style>\n",
              "\n",
              "  <script>\n",
              "    async function quickchart(key) {\n",
              "      const quickchartButtonEl =\n",
              "        document.querySelector('#' + key + ' button');\n",
              "      quickchartButtonEl.disabled = true;  // To prevent multiple clicks.\n",
              "      quickchartButtonEl.classList.add('colab-df-spinner');\n",
              "      try {\n",
              "        const charts = await google.colab.kernel.invokeFunction(\n",
              "            'suggestCharts', [key], {});\n",
              "      } catch (error) {\n",
              "        console.error('Error during call to suggestCharts:', error);\n",
              "      }\n",
              "      quickchartButtonEl.classList.remove('colab-df-spinner');\n",
              "      quickchartButtonEl.classList.add('colab-df-quickchart-complete');\n",
              "    }\n",
              "    (() => {\n",
              "      let quickchartButtonEl =\n",
              "        document.querySelector('#df-5ca4de4d-6672-4fc5-9a43-4cc5975b5157 button');\n",
              "      quickchartButtonEl.style.display =\n",
              "        google.colab.kernel.accessAllowed ? 'block' : 'none';\n",
              "    })();\n",
              "  </script>\n",
              "</div>\n",
              "\n",
              "    </div>\n",
              "  </div>\n"
            ],
            "application/vnd.google.colaboratory.intrinsic+json": {
              "type": "dataframe",
              "variable_name": "df",
              "summary": "{\n  \"name\": \"df\",\n  \"rows\": 28221,\n  \"fields\": [\n    {\n      \"column\": \"ID\",\n      \"properties\": {\n        \"dtype\": \"number\",\n        \"std\": 8146,\n        \"min\": 1,\n        \"max\": 28221,\n        \"num_unique_values\": 28221,\n        \"samples\": [\n          23963,\n          22038,\n          12087\n        ],\n        \"semantic_type\": \"\",\n        \"description\": \"\"\n      }\n    },\n    {\n      \"column\": \"OPEID\",\n      \"properties\": {\n        \"dtype\": \"number\",\n        \"std\": 300970,\n        \"min\": 102000,\n        \"max\": 4279700,\n        \"num_unique_values\": 319,\n        \"samples\": [\n          162500,\n          330100,\n          115500\n        ],\n        \"semantic_type\": \"\",\n        \"description\": \"\"\n      }\n    },\n    {\n      \"column\": \"Institution Name\",\n      \"properties\": {\n        \"dtype\": \"category\",\n        \"num_unique_values\": 318,\n        \"samples\": [\n          \"Brigham Young University - Idaho\",\n          \"University of Texas Health Science Center at Houston\",\n          \"San Jose State University\"\n        ],\n        \"semantic_type\": \"\",\n        \"description\": \"\"\n      }\n    },\n    {\n      \"column\": \"City\",\n      \"properties\": {\n        \"dtype\": \"category\",\n        \"num_unique_values\": 250,\n        \"samples\": [\n          \"Old Westbury\",\n          \"Flagstaff\",\n          \"Amherst\"\n        ],\n        \"semantic_type\": \"\",\n        \"description\": \"\"\n      }\n    },\n    {\n      \"column\": \"State\",\n      \"properties\": {\n        \"dtype\": \"category\",\n        \"num_unique_values\": 47,\n        \"samples\": [\n          \"NH\",\n          \"TX\",\n          \"NE\"\n        ],\n        \"semantic_type\": \"\",\n        \"description\": \"\"\n      }\n    },\n    {\n      \"column\": \"Foreign Gift Received Date\",\n      \"properties\": {\n        \"dtype\": \"number\",\n        \"std\": 641,\n        \"min\": 41640,\n        \"max\": 44012,\n        \"num_unique_values\": 1978,\n        \"samples\": [\n          41899,\n          43669,\n          42642\n        ],\n        \"semantic_type\": \"\",\n        \"description\": \"\"\n      }\n    },\n    {\n      \"column\": \"Foreign Gift Amount\",\n      \"properties\": {\n        \"dtype\": \"number\",\n        \"std\": 3222011,\n        \"min\": -537770,\n        \"max\": 99999999,\n        \"num_unique_values\": 16271,\n        \"samples\": [\n          843714,\n          20680,\n          502001\n        ],\n        \"semantic_type\": \"\",\n        \"description\": \"\"\n      }\n    },\n    {\n      \"column\": \"Gift Type\",\n      \"properties\": {\n        \"dtype\": \"category\",\n        \"num_unique_values\": 3,\n        \"samples\": [\n          \"Monetary Gift\",\n          \"Contract\",\n          \"Real Estate\"\n        ],\n        \"semantic_type\": \"\",\n        \"description\": \"\"\n      }\n    },\n    {\n      \"column\": \"Country of Giftor\",\n      \"properties\": {\n        \"dtype\": \"category\",\n        \"num_unique_values\": 155,\n        \"samples\": [\n          \"NIGERIA\",\n          \"ISLE OF MAN\",\n          \"NEW ZEALAND\"\n        ],\n        \"semantic_type\": \"\",\n        \"description\": \"\"\n      }\n    },\n    {\n      \"column\": \"Giftor Name\",\n      \"properties\": {\n        \"dtype\": \"category\",\n        \"num_unique_values\": 8993,\n        \"samples\": [\n          \"Ransom, Myke\",\n          \"Xeos Technologies Inc\",\n          \"JAMES COOK UNIVERSITY\"\n        ],\n        \"semantic_type\": \"\",\n        \"description\": \"\"\n      }\n    }\n  ]\n}"
            }
          },
          "metadata": {},
          "execution_count": 8
        }
      ]
    },
    {
      "cell_type": "code",
      "source": [
        "\n",
        "#2\n",
        "df[\"Foreign Gift Amount\"].describe()"
      ],
      "metadata": {
        "colab": {
          "base_uri": "https://localhost:8080/",
          "height": 335
        },
        "id": "QrA4L1JQHtey",
        "outputId": "14441397-d904-406b-fb0d-e8106cead679"
      },
      "execution_count": 9,
      "outputs": [
        {
          "output_type": "execute_result",
          "data": {
            "text/plain": [
              "count    2.822100e+04\n",
              "mean     5.882327e+05\n",
              "std      3.222011e+06\n",
              "min     -5.377700e+05\n",
              "25%      5.700000e+03\n",
              "50%      9.461500e+04\n",
              "75%      3.761420e+05\n",
              "max      1.000000e+08\n",
              "Name: Foreign Gift Amount, dtype: float64"
            ],
            "text/html": [
              "<div>\n",
              "<style scoped>\n",
              "    .dataframe tbody tr th:only-of-type {\n",
              "        vertical-align: middle;\n",
              "    }\n",
              "\n",
              "    .dataframe tbody tr th {\n",
              "        vertical-align: top;\n",
              "    }\n",
              "\n",
              "    .dataframe thead th {\n",
              "        text-align: right;\n",
              "    }\n",
              "</style>\n",
              "<table border=\"1\" class=\"dataframe\">\n",
              "  <thead>\n",
              "    <tr style=\"text-align: right;\">\n",
              "      <th></th>\n",
              "      <th>Foreign Gift Amount</th>\n",
              "    </tr>\n",
              "  </thead>\n",
              "  <tbody>\n",
              "    <tr>\n",
              "      <th>count</th>\n",
              "      <td>2.822100e+04</td>\n",
              "    </tr>\n",
              "    <tr>\n",
              "      <th>mean</th>\n",
              "      <td>5.882327e+05</td>\n",
              "    </tr>\n",
              "    <tr>\n",
              "      <th>std</th>\n",
              "      <td>3.222011e+06</td>\n",
              "    </tr>\n",
              "    <tr>\n",
              "      <th>min</th>\n",
              "      <td>-5.377700e+05</td>\n",
              "    </tr>\n",
              "    <tr>\n",
              "      <th>25%</th>\n",
              "      <td>5.700000e+03</td>\n",
              "    </tr>\n",
              "    <tr>\n",
              "      <th>50%</th>\n",
              "      <td>9.461500e+04</td>\n",
              "    </tr>\n",
              "    <tr>\n",
              "      <th>75%</th>\n",
              "      <td>3.761420e+05</td>\n",
              "    </tr>\n",
              "    <tr>\n",
              "      <th>max</th>\n",
              "      <td>1.000000e+08</td>\n",
              "    </tr>\n",
              "  </tbody>\n",
              "</table>\n",
              "</div><br><label><b>dtype:</b> float64</label>"
            ]
          },
          "metadata": {},
          "execution_count": 9
        }
      ]
    },
    {
      "cell_type": "code",
      "source": [
        "sns.histplot(data = df, x = \"Foreign Gift Amount\", bins =50, kde = True)\n",
        "plt.title(\"Foreign Gift Amount\")\n",
        "plt.xlabel(\"Amount\")\n",
        "plt.show()"
      ],
      "metadata": {
        "colab": {
          "base_uri": "https://localhost:8080/",
          "height": 472
        },
        "id": "q6CsNk7NECnt",
        "outputId": "13f92f1c-c0b5-47a4-c971-746dbf0d4cd4"
      },
      "execution_count": 10,
      "outputs": [
        {
          "output_type": "display_data",
          "data": {
            "text/plain": [
              "<Figure size 640x480 with 1 Axes>"
            ],
            "image/png": "[encoded data removed]"
          },
          "metadata": {}
        }
      ]
    },
    {
      "cell_type": "markdown",
      "source": [
        "As observed above, there is a very wide range of foreign gift amounts recieved by American universities. The sum of the gift is given on the x-axis (multiplied by 1e8) and we can observe that the vast majority of gifts are in the thousands or hundreds of thousands or thousands; there are some outliars that are distincly larger than average, and this histogram is not the best way to visualize this data."
      ],
      "metadata": {
        "id": "xPxRz2vXIYgF"
      }
    },
    {
      "cell_type": "code",
      "source": [
        "#3\n",
        "vc = df[\"Gift Type\"].value_counts()\n",
        "print(vc)"
      ],
      "metadata": {
        "colab": {
          "base_uri": "https://localhost:8080/"
        },
        "id": "YuXEjzxbGkZP",
        "outputId": "10b77d10-0c7a-4ba5-d3b2-4541bff231be"
      },
      "execution_count": 11,
      "outputs": [
        {
          "output_type": "stream",
          "name": "stdout",
          "text": [
            "Gift Type\n",
            "Contract         17274\n",
            "Monetary Gift    10936\n",
            "Real Estate         11\n",
            "Name: count, dtype: int64\n"
          ]
        }
      ]
    },
    {
      "cell_type": "code",
      "source": [
        "total = df[\"Gift Type\"].value_counts().sum()\n",
        "total"
      ],
      "metadata": {
        "colab": {
          "base_uri": "https://localhost:8080/"
        },
        "id": "30zxvkpbK887",
        "outputId": "abf5372b-8122-4013-9e21-61b7c291fdf4"
      },
      "execution_count": 12,
      "outputs": [
        {
          "output_type": "execute_result",
          "data": {
            "text/plain": [
              "28221"
            ]
          },
          "metadata": {},
          "execution_count": 12
        }
      ]
    },
    {
      "cell_type": "code",
      "source": [
        "contract = vc[\"Contract\"] / total\n",
        "monetary = vc[\"Monetary Gift\"] / total\n",
        "real_estate = vc[\"Real Estate\"] / total"
      ],
      "metadata": {
        "id": "T_tRkQtCLWnq"
      },
      "execution_count": 13,
      "outputs": []
    },
    {
      "cell_type": "code",
      "source": [
        "print(\"contract proportion:\", contract, \"monetary gift proportion:\", monetary, \"real estate proportion:\", real_estate)"
      ],
      "metadata": {
        "colab": {
          "base_uri": "https://localhost:8080/"
        },
        "id": "8o5qEFUFL45b",
        "outputId": "dc076012-e9a9-4708-d08b-8764bdd9da10"
      },
      "execution_count": 17,
      "outputs": [
        {
          "output_type": "stream",
          "name": "stdout",
          "text": [
            "contract proportion: 0.6120973742957372 monetary gift proportion: 0.3875128450444704 real estate proportion: 0.00038978065979235324\n"
          ]
        }
      ]
    },
    {
      "cell_type": "code",
      "source": [
        "#4\n",
        "sns.kdeplot(np.log(df[\"Foreign Gift Amount\"]), fill=True) # must put on log scale for kde plot\n",
        "plt.title(\"Kernel Density Plot of Foreign Gift Amount\")\n",
        "plt.xlabel(\"Foreign Gift Amount (Log Scale)\")\n",
        "plt.ylabel(\"Density\")\n",
        "plt.show()"
      ],
      "metadata": {
        "id": "fYLaP-h6MsFP",
        "colab": {
          "base_uri": "https://localhost:8080/",
          "height": 508
        },
        "outputId": "37171eee-921e-48b8-b15f-e1a953067500"
      },
      "execution_count": 20,
      "outputs": [
        {
          "output_type": "stream",
          "name": "stderr",
          "text": [
            "/usr/local/lib/python3.11/dist-packages/pandas/core/arraylike.py:399: RuntimeWarning: invalid value encountered in log\n",
            "  result = getattr(ufunc, method)(*inputs, **kwargs)\n"
          ]
        },
        {
          "output_type": "display_data",
          "data": {
            "text/plain": [
              "<Figure size 640x480 with 1 Axes>"
            ],
            "image/png": "[encoded data removed]"
          },
          "metadata": {}
        }
      ]
    },
    {
      "cell_type": "code",
      "source": [
        "# conditional on gift type\n",
        "sns.kdeplot(data=df, x=np.log(df['Foreign Gift Amount']), hue='Gift Type', fill=True)\n",
        "plt.title(\"Kernel Density Plot Foreign Gift Amount Conditional on Gift Type\")\n",
        "plt.xlabel(\"Foreign Gift Amount (Log Scale)\")\n",
        "plt.ylabel(\"Density\")\n",
        "plt.show()"
      ],
      "metadata": {
        "id": "02sSKFR_EEJm",
        "outputId": "795ed488-d3a1-4382-bb39-55a9210c58fb",
        "colab": {
          "base_uri": "https://localhost:8080/",
          "height": 508
        }
      },
      "execution_count": 23,
      "outputs": [
        {
          "output_type": "stream",
          "name": "stderr",
          "text": [
            "/usr/local/lib/python3.11/dist-packages/pandas/core/arraylike.py:399: RuntimeWarning: invalid value encountered in log\n",
            "  result = getattr(ufunc, method)(*inputs, **kwargs)\n"
          ]
        },
        {
          "output_type": "display_data",
          "data": {
            "text/plain": [
              "<Figure size 640x480 with 1 Axes>"
            ],
            "image/png": "[encoded data removed]"
          },
          "metadata": {}
        }
      ]
    },
    {
      "cell_type": "markdown",
      "source": [
        "It is much more likely for the Foreign gift to be in the form of a Contract or Monetary Gift than through Real Estate. It appears that gifts in the form of a Contract are most common and then Monetary gifts are second most likely, wheras, real estate gifts occur so infrequently they aren't able to be represented on the graph."
      ],
      "metadata": {
        "id": "GQE89wAtFT2-"
      }
    },
    {
      "cell_type": "code",
      "source": [
        "#5\n",
        "top_countries = df.groupby(\"Country of Giftor\").size().sort_values(ascending=False).head(15) # gives top countries by number of gifts given\n",
        "top_countries"
      ],
      "metadata": {
        "id": "LgMlB2pyF5gF",
        "outputId": "4675c5b6-c81d-4938-a063-8f6a9678ff2d",
        "colab": {
          "base_uri": "https://localhost:8080/",
          "height": 586
        }
      },
      "execution_count": 25,
      "outputs": [
        {
          "output_type": "execute_result",
          "data": {
            "text/plain": [
              "Country of Giftor\n",
              "ENGLAND            3655\n",
              "CHINA              2461\n",
              "CANADA             2344\n",
              "JAPAN              1896\n",
              "SWITZERLAND        1676\n",
              "SAUDI ARABIA       1610\n",
              "FRANCE             1437\n",
              "GERMANY            1394\n",
              "HONG KONG          1080\n",
              "SOUTH KOREA         811\n",
              "QATAR               693\n",
              "THE NETHERLANDS     512\n",
              "KOREA               452\n",
              "INDIA               434\n",
              "TAIWAN              381\n",
              "dtype: int64"
            ],
            "text/html": [
              "<div>\n",
              "<style scoped>\n",
              "    .dataframe tbody tr th:only-of-type {\n",
              "        vertical-align: middle;\n",
              "    }\n",
              "\n",
              "    .dataframe tbody tr th {\n",
              "        vertical-align: top;\n",
              "    }\n",
              "\n",
              "    .dataframe thead th {\n",
              "        text-align: right;\n",
              "    }\n",
              "</style>\n",
              "<table border=\"1\" class=\"dataframe\">\n",
              "  <thead>\n",
              "    <tr style=\"text-align: right;\">\n",
              "      <th></th>\n",
              "      <th>0</th>\n",
              "    </tr>\n",
              "    <tr>\n",
              "      <th>Country of Giftor</th>\n",
              "      <th></th>\n",
              "    </tr>\n",
              "  </thead>\n",
              "  <tbody>\n",
              "    <tr>\n",
              "      <th>ENGLAND</th>\n",
              "      <td>3655</td>\n",
              "    </tr>\n",
              "    <tr>\n",
              "      <th>CHINA</th>\n",
              "      <td>2461</td>\n",
              "    </tr>\n",
              "    <tr>\n",
              "      <th>CANADA</th>\n",
              "      <td>2344</td>\n",
              "    </tr>\n",
              "    <tr>\n",
              "      <th>JAPAN</th>\n",
              "      <td>1896</td>\n",
              "    </tr>\n",
              "    <tr>\n",
              "      <th>SWITZERLAND</th>\n",
              "      <td>1676</td>\n",
              "    </tr>\n",
              "    <tr>\n",
              "      <th>SAUDI ARABIA</th>\n",
              "      <td>1610</td>\n",
              "    </tr>\n",
              "    <tr>\n",
              "      <th>FRANCE</th>\n",
              "      <td>1437</td>\n",
              "    </tr>\n",
              "    <tr>\n",
              "      <th>GERMANY</th>\n",
              "      <td>1394</td>\n",
              "    </tr>\n",
              "    <tr>\n",
              "      <th>HONG KONG</th>\n",
              "      <td>1080</td>\n",
              "    </tr>\n",
              "    <tr>\n",
              "      <th>SOUTH KOREA</th>\n",
              "      <td>811</td>\n",
              "    </tr>\n",
              "    <tr>\n",
              "      <th>QATAR</th>\n",
              "      <td>693</td>\n",
              "    </tr>\n",
              "    <tr>\n",
              "      <th>THE NETHERLANDS</th>\n",
              "      <td>512</td>\n",
              "    </tr>\n",
              "    <tr>\n",
              "      <th>KOREA</th>\n",
              "      <td>452</td>\n",
              "    </tr>\n",
              "    <tr>\n",
              "      <th>INDIA</th>\n",
              "      <td>434</td>\n",
              "    </tr>\n",
              "    <tr>\n",
              "      <th>TAIWAN</th>\n",
              "      <td>381</td>\n",
              "    </tr>\n",
              "  </tbody>\n",
              "</table>\n",
              "</div><br><label><b>dtype:</b> int64</label>"
            ]
          },
          "metadata": {},
          "execution_count": 25
        }
      ]
    },
    {
      "cell_type": "code",
      "source": [
        "top_countries_amount = df.groupby(\"Country of Giftor\")[\"Foreign Gift Amount\"].sum().sort_values(ascending=False).head(15) # gives top countries by amount given\n",
        "top_countries_amount"
      ],
      "metadata": {
        "id": "bM7attqyGL6Q",
        "outputId": "02d0c8b1-af44-4f24-f9c7-afec0e1d28f3",
        "colab": {
          "base_uri": "https://localhost:8080/",
          "height": 586
        }
      },
      "execution_count": 26,
      "outputs": [
        {
          "output_type": "execute_result",
          "data": {
            "text/plain": [
              "Country of Giftor\n",
              "QATAR                   2706240869\n",
              "ENGLAND                 1464906771\n",
              "CHINA                   1237952112\n",
              "SAUDI ARABIA            1065205930\n",
              "BERMUDA                  899593972\n",
              "CANADA                   898160656\n",
              "HONG KONG                887402529\n",
              "JAPAN                    655954776\n",
              "SWITZERLAND              619899445\n",
              "INDIA                    539556490\n",
              "GERMANY                  442475605\n",
              "UNITED ARAB EMIRATES     431396357\n",
              "FRANCE                   405839396\n",
              "SINGAPORE                401157692\n",
              "AUSTRALIA                248409202\n",
              "Name: Foreign Gift Amount, dtype: int64"
            ],
            "text/html": [
              "<div>\n",
              "<style scoped>\n",
              "    .dataframe tbody tr th:only-of-type {\n",
              "        vertical-align: middle;\n",
              "    }\n",
              "\n",
              "    .dataframe tbody tr th {\n",
              "        vertical-align: top;\n",
              "    }\n",
              "\n",
              "    .dataframe thead th {\n",
              "        text-align: right;\n",
              "    }\n",
              "</style>\n",
              "<table border=\"1\" class=\"dataframe\">\n",
              "  <thead>\n",
              "    <tr style=\"text-align: right;\">\n",
              "      <th></th>\n",
              "      <th>Foreign Gift Amount</th>\n",
              "    </tr>\n",
              "    <tr>\n",
              "      <th>Country of Giftor</th>\n",
              "      <th></th>\n",
              "    </tr>\n",
              "  </thead>\n",
              "  <tbody>\n",
              "    <tr>\n",
              "      <th>QATAR</th>\n",
              "      <td>2706240869</td>\n",
              "    </tr>\n",
              "    <tr>\n",
              "      <th>ENGLAND</th>\n",
              "      <td>1464906771</td>\n",
              "    </tr>\n",
              "    <tr>\n",
              "      <th>CHINA</th>\n",
              "      <td>1237952112</td>\n",
              "    </tr>\n",
              "    <tr>\n",
              "      <th>SAUDI ARABIA</th>\n",
              "      <td>1065205930</td>\n",
              "    </tr>\n",
              "    <tr>\n",
              "      <th>BERMUDA</th>\n",
              "      <td>899593972</td>\n",
              "    </tr>\n",
              "    <tr>\n",
              "      <th>CANADA</th>\n",
              "      <td>898160656</td>\n",
              "    </tr>\n",
              "    <tr>\n",
              "      <th>HONG KONG</th>\n",
              "      <td>887402529</td>\n",
              "    </tr>\n",
              "    <tr>\n",
              "      <th>JAPAN</th>\n",
              "      <td>655954776</td>\n",
              "    </tr>\n",
              "    <tr>\n",
              "      <th>SWITZERLAND</th>\n",
              "      <td>619899445</td>\n",
              "    </tr>\n",
              "    <tr>\n",
              "      <th>INDIA</th>\n",
              "      <td>539556490</td>\n",
              "    </tr>\n",
              "    <tr>\n",
              "      <th>GERMANY</th>\n",
              "      <td>442475605</td>\n",
              "    </tr>\n",
              "    <tr>\n",
              "      <th>UNITED ARAB EMIRATES</th>\n",
              "      <td>431396357</td>\n",
              "    </tr>\n",
              "    <tr>\n",
              "      <th>FRANCE</th>\n",
              "      <td>405839396</td>\n",
              "    </tr>\n",
              "    <tr>\n",
              "      <th>SINGAPORE</th>\n",
              "      <td>401157692</td>\n",
              "    </tr>\n",
              "    <tr>\n",
              "      <th>AUSTRALIA</th>\n",
              "      <td>248409202</td>\n",
              "    </tr>\n",
              "  </tbody>\n",
              "</table>\n",
              "</div><br><label><b>dtype:</b> int64</label>"
            ]
          },
          "metadata": {},
          "execution_count": 26
        }
      ]
    },
    {
      "cell_type": "code",
      "source": [
        "#6\n",
        "top_institutions_amount = df.groupby(\"Institution Name\")[\"Foreign Gift Amount\"].sum().sort_values(ascending=False).head(15)\n",
        "top_institutions_amount"
      ],
      "metadata": {
        "id": "wMZGuD-lHEB_",
        "outputId": "4472e367-acce-4604-99da-3af6dc4c01ca",
        "colab": {
          "base_uri": "https://localhost:8080/",
          "height": 586
        }
      },
      "execution_count": 29,
      "outputs": [
        {
          "output_type": "execute_result",
          "data": {
            "text/plain": [
              "Institution Name\n",
              "Carnegie Mellon University                       1477922504\n",
              "Cornell University                               1289937761\n",
              "Harvard University                                954803610\n",
              "Massachusetts Institute of Technology             859071692\n",
              "Yale University                                   613441311\n",
              "Texas A&M University                              521455050\n",
              "Johns Hopkins University                          502409595\n",
              "Northwestern University                           402316221\n",
              "Georgetown University                             379950511\n",
              "University of Chicago (The)                       364544338\n",
              "University of Colorado Boulder                    360173159\n",
              "Duke University                                   343699498\n",
              "Brigham Young University                          323509863\n",
              "Stanford University                               319561362\n",
              "University of Texas MD Anderson Cancer Center     301527419\n",
              "Name: Foreign Gift Amount, dtype: int64"
            ],
            "text/html": [
              "<div>\n",
              "<style scoped>\n",
              "    .dataframe tbody tr th:only-of-type {\n",
              "        vertical-align: middle;\n",
              "    }\n",
              "\n",
              "    .dataframe tbody tr th {\n",
              "        vertical-align: top;\n",
              "    }\n",
              "\n",
              "    .dataframe thead th {\n",
              "        text-align: right;\n",
              "    }\n",
              "</style>\n",
              "<table border=\"1\" class=\"dataframe\">\n",
              "  <thead>\n",
              "    <tr style=\"text-align: right;\">\n",
              "      <th></th>\n",
              "      <th>Foreign Gift Amount</th>\n",
              "    </tr>\n",
              "    <tr>\n",
              "      <th>Institution Name</th>\n",
              "      <th></th>\n",
              "    </tr>\n",
              "  </thead>\n",
              "  <tbody>\n",
              "    <tr>\n",
              "      <th>Carnegie Mellon University</th>\n",
              "      <td>1477922504</td>\n",
              "    </tr>\n",
              "    <tr>\n",
              "      <th>Cornell University</th>\n",
              "      <td>1289937761</td>\n",
              "    </tr>\n",
              "    <tr>\n",
              "      <th>Harvard University</th>\n",
              "      <td>954803610</td>\n",
              "    </tr>\n",
              "    <tr>\n",
              "      <th>Massachusetts Institute of Technology</th>\n",
              "      <td>859071692</td>\n",
              "    </tr>\n",
              "    <tr>\n",
              "      <th>Yale University</th>\n",
              "      <td>613441311</td>\n",
              "    </tr>\n",
              "    <tr>\n",
              "      <th>Texas A&amp;M University</th>\n",
              "      <td>521455050</td>\n",
              "    </tr>\n",
              "    <tr>\n",
              "      <th>Johns Hopkins University</th>\n",
              "      <td>502409595</td>\n",
              "    </tr>\n",
              "    <tr>\n",
              "      <th>Northwestern University</th>\n",
              "      <td>402316221</td>\n",
              "    </tr>\n",
              "    <tr>\n",
              "      <th>Georgetown University</th>\n",
              "      <td>379950511</td>\n",
              "    </tr>\n",
              "    <tr>\n",
              "      <th>University of Chicago (The)</th>\n",
              "      <td>364544338</td>\n",
              "    </tr>\n",
              "    <tr>\n",
              "      <th>University of Colorado Boulder</th>\n",
              "      <td>360173159</td>\n",
              "    </tr>\n",
              "    <tr>\n",
              "      <th>Duke University</th>\n",
              "      <td>343699498</td>\n",
              "    </tr>\n",
              "    <tr>\n",
              "      <th>Brigham Young University</th>\n",
              "      <td>323509863</td>\n",
              "    </tr>\n",
              "    <tr>\n",
              "      <th>Stanford University</th>\n",
              "      <td>319561362</td>\n",
              "    </tr>\n",
              "    <tr>\n",
              "      <th>University of Texas MD Anderson Cancer Center</th>\n",
              "      <td>301527419</td>\n",
              "    </tr>\n",
              "  </tbody>\n",
              "</table>\n",
              "</div><br><label><b>dtype:</b> int64</label>"
            ]
          },
          "metadata": {},
          "execution_count": 29
        }
      ]
    },
    {
      "cell_type": "code",
      "source": [
        "institution_total = df.groupby(\"Institution Name\")[\"Foreign Gift Amount\"].sum()\n",
        "sns.histplot(institution_total, bins=50, kde=True)\n",
        "plt.title('Histogram of Total Amount Received by All Institutions')\n",
        "plt.xlabel('Total Amount Received')\n",
        "plt.ylabel('Frequency')\n",
        "plt.show()"
      ],
      "metadata": {
        "id": "pmK6YjuSIqCB",
        "outputId": "a9ea97d3-bd7f-4c81-bce3-f2b684b3db6a",
        "colab": {
          "base_uri": "https://localhost:8080/",
          "height": 472
        }
      },
      "execution_count": 34,
      "outputs": [
        {
          "output_type": "display_data",
          "data": {
            "text/plain": [
              "<Figure size 640x480 with 1 Axes>"
            ],
            "image/png": "[encoded data removed]"
          },
          "metadata": {}
        }
      ]
    },
    {
      "cell_type": "code",
      "source": [
        "#7\n",
        "top_giftors = df.groupby(\"Giftor Name\")[\"Foreign Gift Amount\"].sum().sort_values(ascending=False)\n",
        "top_giftors.head(15)"
      ],
      "metadata": {
        "id": "ZJJLJSTNKDQc",
        "outputId": "bf0dae00-71d7-4023-bb45-5d7bb8a0547c",
        "colab": {
          "base_uri": "https://localhost:8080/",
          "height": 586
        }
      },
      "execution_count": 36,
      "outputs": [
        {
          "output_type": "execute_result",
          "data": {
            "text/plain": [
              "Giftor Name\n",
              "Qatar Foundation                       1166503744\n",
              "Qatar Foundation/Qatar National Res     796197000\n",
              "Qatar Foundation for Education          373945215\n",
              "Anonymous                               338793629\n",
              "Saudi Arabian Cultural Mission          275221475\n",
              "HCL                                     190000000\n",
              "Church of Jesus Christ of LDS           185203715\n",
              "Emirates Institute for Advanced Sc      170641244\n",
              "QIC                                     148355497\n",
              "Anonymous #9                             96334996\n",
              "Qatar National Research Fund             79021705\n",
              "Government of Saudi Arabia               75192434\n",
              "Contracting Party                        69996984\n",
              "CMKL University                          67700000\n",
              "Royal Embassy of Saudi Arabia            67062486\n",
              "Name: Foreign Gift Amount, dtype: int64"
            ],
            "text/html": [
              "<div>\n",
              "<style scoped>\n",
              "    .dataframe tbody tr th:only-of-type {\n",
              "        vertical-align: middle;\n",
              "    }\n",
              "\n",
              "    .dataframe tbody tr th {\n",
              "        vertical-align: top;\n",
              "    }\n",
              "\n",
              "    .dataframe thead th {\n",
              "        text-align: right;\n",
              "    }\n",
              "</style>\n",
              "<table border=\"1\" class=\"dataframe\">\n",
              "  <thead>\n",
              "    <tr style=\"text-align: right;\">\n",
              "      <th></th>\n",
              "      <th>Foreign Gift Amount</th>\n",
              "    </tr>\n",
              "    <tr>\n",
              "      <th>Giftor Name</th>\n",
              "      <th></th>\n",
              "    </tr>\n",
              "  </thead>\n",
              "  <tbody>\n",
              "    <tr>\n",
              "      <th>Qatar Foundation</th>\n",
              "      <td>1166503744</td>\n",
              "    </tr>\n",
              "    <tr>\n",
              "      <th>Qatar Foundation/Qatar National Res</th>\n",
              "      <td>796197000</td>\n",
              "    </tr>\n",
              "    <tr>\n",
              "      <th>Qatar Foundation for Education</th>\n",
              "      <td>373945215</td>\n",
              "    </tr>\n",
              "    <tr>\n",
              "      <th>Anonymous</th>\n",
              "      <td>338793629</td>\n",
              "    </tr>\n",
              "    <tr>\n",
              "      <th>Saudi Arabian Cultural Mission</th>\n",
              "      <td>275221475</td>\n",
              "    </tr>\n",
              "    <tr>\n",
              "      <th>HCL</th>\n",
              "      <td>190000000</td>\n",
              "    </tr>\n",
              "    <tr>\n",
              "      <th>Church of Jesus Christ of LDS</th>\n",
              "      <td>185203715</td>\n",
              "    </tr>\n",
              "    <tr>\n",
              "      <th>Emirates Institute for Advanced Sc</th>\n",
              "      <td>170641244</td>\n",
              "    </tr>\n",
              "    <tr>\n",
              "      <th>QIC</th>\n",
              "      <td>148355497</td>\n",
              "    </tr>\n",
              "    <tr>\n",
              "      <th>Anonymous #9</th>\n",
              "      <td>96334996</td>\n",
              "    </tr>\n",
              "    <tr>\n",
              "      <th>Qatar National Research Fund</th>\n",
              "      <td>79021705</td>\n",
              "    </tr>\n",
              "    <tr>\n",
              "      <th>Government of Saudi Arabia</th>\n",
              "      <td>75192434</td>\n",
              "    </tr>\n",
              "    <tr>\n",
              "      <th>Contracting Party</th>\n",
              "      <td>69996984</td>\n",
              "    </tr>\n",
              "    <tr>\n",
              "      <th>CMKL University</th>\n",
              "      <td>67700000</td>\n",
              "    </tr>\n",
              "    <tr>\n",
              "      <th>Royal Embassy of Saudi Arabia</th>\n",
              "      <td>67062486</td>\n",
              "    </tr>\n",
              "  </tbody>\n",
              "</table>\n",
              "</div><br><label><b>dtype:</b> int64</label>"
            ]
          },
          "metadata": {},
          "execution_count": 36
        }
      ]
    },
    {
      "cell_type": "markdown",
      "source": [
        "# Q4"
      ],
      "metadata": {
        "id": "znNiHx3uKmyU"
      }
    },
    {
      "cell_type": "code",
      "source": [
        "df2 = pd.read_csv(\"drilling_rigs.csv\")"
      ],
      "metadata": {
        "id": "yWXfMRaUKqaV"
      },
      "execution_count": 37,
      "outputs": []
    },
    {
      "cell_type": "markdown",
      "metadata": {
        "id": "W8ZXQQNKPi3V"
      },
      "source": [
        "# Assignment: Exploratory Data Analysis\n",
        "### `! git clone https://github.com/ds4e/EDA`\n",
        "### Do Q1 and two other questions."
      ]
    },
    {
      "cell_type": "markdown",
      "metadata": {
        "id": "PbElfnmtPi3W"
      },
      "source": [
        "**Q1.** In class, we talked about how to compute the sample mean of a variable $X$,\n",
        "$$\n",
        "m(X) = \\dfrac{1}{N} \\sum_{i=1}^N x_i\n",
        "$$\n",
        "and sample covariance of two variables $X$ and $Y$,\n",
        "$$\n",
        "\\text{cov}(X,Y) = \\dfrac{1}{N} \\sum_{i=1}^N (x_i - m(X))(y_i - m(Y))).\n",
        "$$\n",
        "Recall, the sample variance of $X$ is\n",
        "$$\n",
        "s^2 = \\dfrac{1}{N} \\sum_{i=1}^N (x_i - m(X))^2.\n",
        "$$\n",
        "It can be very helpful to understand some basic properties of these statistics. If you want to write your calculations on a piece of paper, take a photo, and upload that to your GitHub repo, that's probably easiest.\n",
        "\n",
        "1. Show that $m(a + bX) = a+b \\times m(X)$.\n",
        "2. Show that $\\text{cov}(X,a+bY) = b \\times \\text{cov}(X,Y)$\n",
        "3. Show that $\\text{cov}(a+bX,a+bX) = b^2 \\text{cov}(X,X) $, and in particular that $\\text{cov}(X,X) = s^2 $.\n",
        "4. Instead of the mean, consider the median. Consider transformations that are non-decreasing (if $x\\ge x'$, then $g(x)\\ge g(x')$), like $2+5 \\times X$ or $\\text{arcsinh}(X)$. Is a non-decreasing transformation of the median the median of the transformed variable? Explain. Does your answer apply to any quantile? The IQR? The range?\n",
        "5. Consider a non-decreasing transformation $g()$. Is is always true that $m(g(X))= g(m(X))$?"
      ]
    },
    {
      "cell_type": "markdown",
      "metadata": {
        "id": "lz1fPPtEPi3W"
      },
      "source": [
        "**Q2.** This question looks at financial transfers from foreign entities to American universities. In particular, from which countries and giftors are the gifts coming from, and to which institutions are they going? For this question, `.groupby([vars]).count()` and `.groupby([vars]).sum()` will be especially useful to tally the number of occurrences and sum the values of those occurrences.\n",
        "\n",
        "1. Load the `./data/ForeignGifts_edu.csv` dataset.\n",
        "2. For `Foreign Gift Amount`, create a histogram and describe the variable. Describe your findings.\n",
        "3. For `Gift Type`, create a histogram or value counts table. What proportion of the gifts are contracts, real estate, and monetary gifts?\n",
        "4. Create a kernel density plot of the log of `Foreign Gift Amount`, and then a kernel density plot of the log of `Foreign Gift Amount` conditional on gift type. Do you notice any patterns?\n",
        "5. What are the top 15 countries in terms of the number of gifts? What are the top 15 countries in terms of the amount given?\n",
        "6. What are the top 15 institutions in terms of the total amount of money they receive? Make a histogram of the total amount received by all institutions.\n",
        "7. Which giftors provide the most money, in total?"
      ]
    },
    {
      "cell_type": "markdown",
      "metadata": {
        "id": "iPLyBizzPi3W"
      },
      "source": [
        "**Q3.** This question uses the Airbnb data to practice making visualizations.\n",
        "\n",
        "  1. Load the `./data/airbnb_hw.csv` data with Pandas. This provides a dataset of AirBnB rental properties for New York City.  \n",
        "  2. What are are the dimensions of the data? How many observations are there? What are the variables included? Use `.head()` to examine the first few rows of data.\n",
        "  3. Cross tabulate `Room Type` and `Property Type`. What patterns do you see in what kinds of rentals are available? For which kinds of properties are private rooms more common than renting the entire property?\n",
        "  4. For `Price`, make a histogram, kernel density, box plot, and a statistical description of the variable. Are the data badly scaled? Are there many outliers? Use `log` to transform price into a new variable, `price_log`, and take these steps again.\n",
        "  5. Make a scatterplot of `price_log` and `Beds`. Describe what you see. Use `.groupby()` to compute a desciption of `Price` conditional on/grouped by the number of beds. Describe any patterns you see in the average price and standard deviation in prices.\n",
        "  6. Make a scatterplot of `price_log` and `Beds`, but color the graph by `Room Type` and `Property Type`. What patterns do you see? Compute a description of `Price` conditional on `Room Type` and `Property Type`. Which Room Type and Property Type have the highest prices on average? Which have the highest standard deviation? Does the mean or median appear to be a more reliable estimate of central tendency, and explain why?\n",
        "  7. We've looked a bit at this `price_log` and `Beds` scatterplot. Use seaborn to make a `jointplot` with `kind=hex`. Where are the data actually distributed? How does it affect the way you think about the plots in 5 and 6?"
      ]
    },
    {
      "cell_type": "markdown",
      "metadata": {
        "id": "hB_lgvIxPi3X"
      },
      "source": [
        "**Q4.** This question looks at a time series of the number of active oil drilling rigs in the United States over time. The data comes from the Energy Information Agency.\n",
        "\n",
        "1. Load `./data/drilling_rigs.csv` and examine the data. How many observations? How many variables? Are numeric variables correctly read in by Pandas, or will some variables have to be typecast/coerced? Explain clearly how these data need to be cleaned.\n",
        "2. To convert the `Month` variable to an ordered datetime variable, use `df['time'] = pd.to_datetime(df['Month'], format='mixed')`.\n",
        "3. Let's look at `Active Well Service Rig Count (Number of Rigs)`, which is the total number of rigs over time. Make a line plot of this time series. Describe what you see.\n",
        "4. Instead of levels, we want to look at change over time. Compute the first difference of  `Active Well Service Rig Count (Number of Rigs)` and plot it over time. Describe what you see.\n",
        "5. The first two columns are the number of onshore and offshore rigs, respectively. Melt these columns and plot the resulting series."
      ]
    }
  ],
  "metadata": {
    "kernelspec": {
      "display_name": "base",
      "language": "python",
      "name": "python3"
    },
    "language_info": {
      "codemirror_mode": {
        "name": "ipython",
        "version": 3
      },
      "file_extension": ".py",
      "mimetype": "text/x-python",
      "name": "python",
      "nbconvert_exporter": "python",
      "pygments_lexer": "ipython3",
      "version": "3.12.2"
    },
    "colab": {
      "provenance": [],
      "include_colab_link": true
    }
  },
  "nbformat": 4,
  "nbformat_minor": 0
}